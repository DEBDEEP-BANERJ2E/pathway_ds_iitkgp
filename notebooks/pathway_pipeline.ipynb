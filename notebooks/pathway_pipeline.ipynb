{
 "cells": [
  {
   "cell_type": "code",
   "execution_count": 7,
   "metadata": {},
   "outputs": [
    {
     "name": "stdout",
     "output_type": "stream",
     "text": [
      "['Callable', 'Coroutine', 'DataIndex', 'Iterable', 'SlidesVectorStoreServer', 'TYPE_CHECKING', 'TypeAlias', 'VectorStoreClient', 'VectorStoreServer', '_SCORE', '__builtins__', '__cached__', '__doc__', '__file__', '__loader__', '__name__', '__package__', '__spec__', '_coerce_sync', '_knn_lsh', '_unwrap_udf', 'cast', 'coerce_async', 'default_usearch_knn_document_index', 'jmespath', 'json', 'logging', 'pathway', 'pw', 'requests', 'threading', 'warnings']\n"
     ]
    }
   ],
   "source": [
    "import pathway as pw\n",
    "print(dir(pw.xpacks.llm.vector_store))\n"
   ]
  },
  {
   "cell_type": "code",
   "execution_count": 10,
   "metadata": {},
   "outputs": [
    {
     "name": "stdout",
     "output_type": "stream",
     "text": [
      "Requirement already satisfied: pathway in /Users/debdeepbanerjee/Desktop/pathway_ds_iitkgp/myenv/lib/python3.10/site-packages (0.16.3)\n",
      "Requirement already satisfied: aiohttp>=3.8.4 in /Users/debdeepbanerjee/Desktop/pathway_ds_iitkgp/myenv/lib/python3.10/site-packages (from pathway) (3.11.11)\n",
      "Requirement already satisfied: click>=8.1 in /Users/debdeepbanerjee/Desktop/pathway_ds_iitkgp/myenv/lib/python3.10/site-packages (from pathway) (8.1.8)\n",
      "Requirement already satisfied: geopy>=2.4.0 in /Users/debdeepbanerjee/Desktop/pathway_ds_iitkgp/myenv/lib/python3.10/site-packages (from pathway) (2.4.1)\n",
      "Requirement already satisfied: h3>=4 in /Users/debdeepbanerjee/Desktop/pathway_ds_iitkgp/myenv/lib/python3.10/site-packages (from pathway) (4.1.2)\n",
      "Requirement already satisfied: numpy>=1.21 in /Users/debdeepbanerjee/Desktop/pathway_ds_iitkgp/myenv/lib/python3.10/site-packages (from pathway) (1.26.4)\n",
      "Requirement already satisfied: pandas>=2.1 in /Users/debdeepbanerjee/Desktop/pathway_ds_iitkgp/myenv/lib/python3.10/site-packages (from pathway) (2.2.3)\n",
      "Requirement already satisfied: scikit-learn>=1.0 in /Users/debdeepbanerjee/Desktop/pathway_ds_iitkgp/myenv/lib/python3.10/site-packages (from pathway) (1.6.0)\n",
      "Requirement already satisfied: shapely>=2.0.1 in /Users/debdeepbanerjee/Desktop/pathway_ds_iitkgp/myenv/lib/python3.10/site-packages (from pathway) (2.0.6)\n",
      "Requirement already satisfied: sqlglot==10.6.1 in /Users/debdeepbanerjee/Desktop/pathway_ds_iitkgp/myenv/lib/python3.10/site-packages (from pathway) (10.6.1)\n",
      "Requirement already satisfied: pyarrow>=10.0.0 in /Users/debdeepbanerjee/Desktop/pathway_ds_iitkgp/myenv/lib/python3.10/site-packages (from pathway) (18.1.0)\n",
      "Requirement already satisfied: requests>=2.31.0 in /Users/debdeepbanerjee/Desktop/pathway_ds_iitkgp/myenv/lib/python3.10/site-packages (from pathway) (2.32.3)\n",
      "Requirement already satisfied: python-sat>=0.1.8.dev0 in /Users/debdeepbanerjee/Desktop/pathway_ds_iitkgp/myenv/lib/python3.10/site-packages (from pathway) (1.8.dev14)\n",
      "Requirement already satisfied: beartype<0.16.0,>=0.14.0 in /Users/debdeepbanerjee/Desktop/pathway_ds_iitkgp/myenv/lib/python3.10/site-packages (from pathway) (0.15.0)\n",
      "Requirement already satisfied: rich>=12.6.0 in /Users/debdeepbanerjee/Desktop/pathway_ds_iitkgp/myenv/lib/python3.10/site-packages (from pathway) (13.9.4)\n",
      "Requirement already satisfied: diskcache>=5.2.1 in /Users/debdeepbanerjee/Desktop/pathway_ds_iitkgp/myenv/lib/python3.10/site-packages (from pathway) (5.6.3)\n",
      "Requirement already satisfied: exceptiongroup>=1.1.3 in /Users/debdeepbanerjee/Desktop/pathway_ds_iitkgp/myenv/lib/python3.10/site-packages (from pathway) (1.2.2)\n",
      "Requirement already satisfied: boto3>=1.26.76 in /Users/debdeepbanerjee/Desktop/pathway_ds_iitkgp/myenv/lib/python3.10/site-packages (from pathway) (1.35.93)\n",
      "Requirement already satisfied: google-api-python-client>=2.108.0 in /Users/debdeepbanerjee/Desktop/pathway_ds_iitkgp/myenv/lib/python3.10/site-packages (from pathway) (2.157.0)\n",
      "Requirement already satisfied: typing-extensions>=4.8.0 in /Users/debdeepbanerjee/Desktop/pathway_ds_iitkgp/myenv/lib/python3.10/site-packages (from pathway) (4.12.2)\n",
      "Requirement already satisfied: panel>=1.3.1 in /Users/debdeepbanerjee/Desktop/pathway_ds_iitkgp/myenv/lib/python3.10/site-packages (from pathway) (1.5.5)\n",
      "Requirement already satisfied: jupyter-bokeh>=3.0.7 in /Users/debdeepbanerjee/Desktop/pathway_ds_iitkgp/myenv/lib/python3.10/site-packages (from pathway) (4.0.5)\n",
      "Requirement already satisfied: jmespath>=1.0.1 in /Users/debdeepbanerjee/Desktop/pathway_ds_iitkgp/myenv/lib/python3.10/site-packages (from pathway) (1.0.1)\n",
      "Requirement already satisfied: aiohttp-cors>=0.7.0 in /Users/debdeepbanerjee/Desktop/pathway_ds_iitkgp/myenv/lib/python3.10/site-packages (from pathway) (0.7.0)\n",
      "Requirement already satisfied: opentelemetry-api>=1.22.0 in /Users/debdeepbanerjee/Desktop/pathway_ds_iitkgp/myenv/lib/python3.10/site-packages (from pathway) (1.29.0)\n",
      "Requirement already satisfied: opentelemetry-sdk>=1.22.0 in /Users/debdeepbanerjee/Desktop/pathway_ds_iitkgp/myenv/lib/python3.10/site-packages (from pathway) (1.29.0)\n",
      "Requirement already satisfied: opentelemetry-exporter-otlp-proto-grpc>=1.22.0 in /Users/debdeepbanerjee/Desktop/pathway_ds_iitkgp/myenv/lib/python3.10/site-packages (from pathway) (1.29.0)\n",
      "Requirement already satisfied: fs>=2.4.16 in /Users/debdeepbanerjee/Desktop/pathway_ds_iitkgp/myenv/lib/python3.10/site-packages (from pathway) (2.4.16)\n",
      "Requirement already satisfied: async-lru>=2.0.4 in /Users/debdeepbanerjee/Desktop/pathway_ds_iitkgp/myenv/lib/python3.10/site-packages (from pathway) (2.0.4)\n",
      "Requirement already satisfied: networkx>=3.2.1 in /Users/debdeepbanerjee/Desktop/pathway_ds_iitkgp/myenv/lib/python3.10/site-packages (from pathway) (3.4.2)\n",
      "Requirement already satisfied: google-cloud-pubsub>=2.21.1 in /Users/debdeepbanerjee/Desktop/pathway_ds_iitkgp/myenv/lib/python3.10/site-packages (from pathway) (2.27.2)\n",
      "Requirement already satisfied: google-cloud-bigquery in /Users/debdeepbanerjee/Desktop/pathway_ds_iitkgp/myenv/lib/python3.10/site-packages (from pathway) (3.27.0)\n",
      "Requirement already satisfied: pydantic~=2.9.0 in /Users/debdeepbanerjee/Desktop/pathway_ds_iitkgp/myenv/lib/python3.10/site-packages (from pathway) (2.9.2)\n",
      "Requirement already satisfied: gitpython>=3.1.43 in /Users/debdeepbanerjee/Desktop/pathway_ds_iitkgp/myenv/lib/python3.10/site-packages (from pathway) (3.1.44)\n",
      "Requirement already satisfied: aiohappyeyeballs>=2.3.0 in /Users/debdeepbanerjee/Desktop/pathway_ds_iitkgp/myenv/lib/python3.10/site-packages (from aiohttp>=3.8.4->pathway) (2.4.4)\n",
      "Requirement already satisfied: aiosignal>=1.1.2 in /Users/debdeepbanerjee/Desktop/pathway_ds_iitkgp/myenv/lib/python3.10/site-packages (from aiohttp>=3.8.4->pathway) (1.3.2)\n",
      "Requirement already satisfied: async-timeout<6.0,>=4.0 in /Users/debdeepbanerjee/Desktop/pathway_ds_iitkgp/myenv/lib/python3.10/site-packages (from aiohttp>=3.8.4->pathway) (4.0.3)\n",
      "Requirement already satisfied: attrs>=17.3.0 in /Users/debdeepbanerjee/Desktop/pathway_ds_iitkgp/myenv/lib/python3.10/site-packages (from aiohttp>=3.8.4->pathway) (24.3.0)\n",
      "Requirement already satisfied: frozenlist>=1.1.1 in /Users/debdeepbanerjee/Desktop/pathway_ds_iitkgp/myenv/lib/python3.10/site-packages (from aiohttp>=3.8.4->pathway) (1.5.0)\n",
      "Requirement already satisfied: multidict<7.0,>=4.5 in /Users/debdeepbanerjee/Desktop/pathway_ds_iitkgp/myenv/lib/python3.10/site-packages (from aiohttp>=3.8.4->pathway) (6.1.0)\n",
      "Requirement already satisfied: propcache>=0.2.0 in /Users/debdeepbanerjee/Desktop/pathway_ds_iitkgp/myenv/lib/python3.10/site-packages (from aiohttp>=3.8.4->pathway) (0.2.1)\n",
      "Requirement already satisfied: yarl<2.0,>=1.17.0 in /Users/debdeepbanerjee/Desktop/pathway_ds_iitkgp/myenv/lib/python3.10/site-packages (from aiohttp>=3.8.4->pathway) (1.18.3)\n",
      "Requirement already satisfied: botocore<1.36.0,>=1.35.93 in /Users/debdeepbanerjee/Desktop/pathway_ds_iitkgp/myenv/lib/python3.10/site-packages (from boto3>=1.26.76->pathway) (1.35.93)\n",
      "Requirement already satisfied: s3transfer<0.11.0,>=0.10.0 in /Users/debdeepbanerjee/Desktop/pathway_ds_iitkgp/myenv/lib/python3.10/site-packages (from boto3>=1.26.76->pathway) (0.10.4)\n",
      "Requirement already satisfied: appdirs~=1.4.3 in /Users/debdeepbanerjee/Desktop/pathway_ds_iitkgp/myenv/lib/python3.10/site-packages (from fs>=2.4.16->pathway) (1.4.4)\n",
      "Requirement already satisfied: setuptools in /Users/debdeepbanerjee/Desktop/pathway_ds_iitkgp/myenv/lib/python3.10/site-packages (from fs>=2.4.16->pathway) (57.4.0)\n",
      "Requirement already satisfied: six~=1.10 in /Users/debdeepbanerjee/Desktop/pathway_ds_iitkgp/myenv/lib/python3.10/site-packages (from fs>=2.4.16->pathway) (1.17.0)\n",
      "Requirement already satisfied: geographiclib<3,>=1.52 in /Users/debdeepbanerjee/Desktop/pathway_ds_iitkgp/myenv/lib/python3.10/site-packages (from geopy>=2.4.0->pathway) (2.0)\n",
      "Requirement already satisfied: gitdb<5,>=4.0.1 in /Users/debdeepbanerjee/Desktop/pathway_ds_iitkgp/myenv/lib/python3.10/site-packages (from gitpython>=3.1.43->pathway) (4.0.12)\n",
      "Requirement already satisfied: httplib2<1.dev0,>=0.19.0 in /Users/debdeepbanerjee/Desktop/pathway_ds_iitkgp/myenv/lib/python3.10/site-packages (from google-api-python-client>=2.108.0->pathway) (0.22.0)\n",
      "Requirement already satisfied: google-auth!=2.24.0,!=2.25.0,<3.0.0.dev0,>=1.32.0 in /Users/debdeepbanerjee/Desktop/pathway_ds_iitkgp/myenv/lib/python3.10/site-packages (from google-api-python-client>=2.108.0->pathway) (2.37.0)\n",
      "Requirement already satisfied: google-auth-httplib2<1.0.0,>=0.2.0 in /Users/debdeepbanerjee/Desktop/pathway_ds_iitkgp/myenv/lib/python3.10/site-packages (from google-api-python-client>=2.108.0->pathway) (0.2.0)\n",
      "Requirement already satisfied: google-api-core!=2.0.*,!=2.1.*,!=2.2.*,!=2.3.0,<3.0.0.dev0,>=1.31.5 in /Users/debdeepbanerjee/Desktop/pathway_ds_iitkgp/myenv/lib/python3.10/site-packages (from google-api-python-client>=2.108.0->pathway) (2.24.0)\n",
      "Requirement already satisfied: uritemplate<5,>=3.0.1 in /Users/debdeepbanerjee/Desktop/pathway_ds_iitkgp/myenv/lib/python3.10/site-packages (from google-api-python-client>=2.108.0->pathway) (4.1.1)\n",
      "Requirement already satisfied: grpcio<2.0dev,>=1.51.3 in /Users/debdeepbanerjee/Desktop/pathway_ds_iitkgp/myenv/lib/python3.10/site-packages (from google-cloud-pubsub>=2.21.1->pathway) (1.69.0)\n",
      "Requirement already satisfied: proto-plus<2.0.0dev,>=1.22.0 in /Users/debdeepbanerjee/Desktop/pathway_ds_iitkgp/myenv/lib/python3.10/site-packages (from google-cloud-pubsub>=2.21.1->pathway) (1.25.0)\n",
      "Requirement already satisfied: protobuf!=4.21.0,!=4.21.1,!=4.21.2,!=4.21.3,!=4.21.4,!=4.21.5,<6.0.0dev,>=3.20.2 in /Users/debdeepbanerjee/Desktop/pathway_ds_iitkgp/myenv/lib/python3.10/site-packages (from google-cloud-pubsub>=2.21.1->pathway) (5.29.2)\n",
      "Requirement already satisfied: grpc-google-iam-v1<1.0.0dev,>=0.12.4 in /Users/debdeepbanerjee/Desktop/pathway_ds_iitkgp/myenv/lib/python3.10/site-packages (from google-cloud-pubsub>=2.21.1->pathway) (0.14.0)\n",
      "Requirement already satisfied: grpcio-status>=1.33.2 in /Users/debdeepbanerjee/Desktop/pathway_ds_iitkgp/myenv/lib/python3.10/site-packages (from google-cloud-pubsub>=2.21.1->pathway) (1.69.0)\n",
      "Requirement already satisfied: bokeh==3.* in /Users/debdeepbanerjee/Desktop/pathway_ds_iitkgp/myenv/lib/python3.10/site-packages (from jupyter-bokeh>=3.0.7->pathway) (3.6.2)\n",
      "Requirement already satisfied: ipywidgets==8.* in /Users/debdeepbanerjee/Desktop/pathway_ds_iitkgp/myenv/lib/python3.10/site-packages (from jupyter-bokeh>=3.0.7->pathway) (8.1.5)\n",
      "Requirement already satisfied: Jinja2>=2.9 in /Users/debdeepbanerjee/Desktop/pathway_ds_iitkgp/myenv/lib/python3.10/site-packages (from bokeh==3.*->jupyter-bokeh>=3.0.7->pathway) (3.1.5)\n",
      "Requirement already satisfied: contourpy>=1.2 in /Users/debdeepbanerjee/Desktop/pathway_ds_iitkgp/myenv/lib/python3.10/site-packages (from bokeh==3.*->jupyter-bokeh>=3.0.7->pathway) (1.3.1)\n",
      "Requirement already satisfied: packaging>=16.8 in /Users/debdeepbanerjee/Desktop/pathway_ds_iitkgp/myenv/lib/python3.10/site-packages (from bokeh==3.*->jupyter-bokeh>=3.0.7->pathway) (24.2)\n",
      "Requirement already satisfied: pillow>=7.1.0 in /Users/debdeepbanerjee/Desktop/pathway_ds_iitkgp/myenv/lib/python3.10/site-packages (from bokeh==3.*->jupyter-bokeh>=3.0.7->pathway) (11.1.0)\n",
      "Requirement already satisfied: PyYAML>=3.10 in /Users/debdeepbanerjee/Desktop/pathway_ds_iitkgp/myenv/lib/python3.10/site-packages (from bokeh==3.*->jupyter-bokeh>=3.0.7->pathway) (6.0.2)\n",
      "Requirement already satisfied: tornado>=6.2 in /Users/debdeepbanerjee/Desktop/pathway_ds_iitkgp/myenv/lib/python3.10/site-packages (from bokeh==3.*->jupyter-bokeh>=3.0.7->pathway) (6.4.2)\n",
      "Requirement already satisfied: xyzservices>=2021.09.1 in /Users/debdeepbanerjee/Desktop/pathway_ds_iitkgp/myenv/lib/python3.10/site-packages (from bokeh==3.*->jupyter-bokeh>=3.0.7->pathway) (2024.9.0)\n",
      "Requirement already satisfied: comm>=0.1.3 in /Users/debdeepbanerjee/Desktop/pathway_ds_iitkgp/myenv/lib/python3.10/site-packages (from ipywidgets==8.*->jupyter-bokeh>=3.0.7->pathway) (0.2.2)\n",
      "Requirement already satisfied: ipython>=6.1.0 in /Users/debdeepbanerjee/Desktop/pathway_ds_iitkgp/myenv/lib/python3.10/site-packages (from ipywidgets==8.*->jupyter-bokeh>=3.0.7->pathway) (8.31.0)\n",
      "Requirement already satisfied: traitlets>=4.3.1 in /Users/debdeepbanerjee/Desktop/pathway_ds_iitkgp/myenv/lib/python3.10/site-packages (from ipywidgets==8.*->jupyter-bokeh>=3.0.7->pathway) (5.14.3)\n",
      "Requirement already satisfied: widgetsnbextension~=4.0.12 in /Users/debdeepbanerjee/Desktop/pathway_ds_iitkgp/myenv/lib/python3.10/site-packages (from ipywidgets==8.*->jupyter-bokeh>=3.0.7->pathway) (4.0.13)\n",
      "Requirement already satisfied: jupyterlab-widgets~=3.0.12 in /Users/debdeepbanerjee/Desktop/pathway_ds_iitkgp/myenv/lib/python3.10/site-packages (from ipywidgets==8.*->jupyter-bokeh>=3.0.7->pathway) (3.0.13)\n",
      "Requirement already satisfied: deprecated>=1.2.6 in /Users/debdeepbanerjee/Desktop/pathway_ds_iitkgp/myenv/lib/python3.10/site-packages (from opentelemetry-api>=1.22.0->pathway) (1.2.15)\n",
      "Requirement already satisfied: importlib-metadata<=8.5.0,>=6.0 in /Users/debdeepbanerjee/Desktop/pathway_ds_iitkgp/myenv/lib/python3.10/site-packages (from opentelemetry-api>=1.22.0->pathway) (8.5.0)\n",
      "Requirement already satisfied: googleapis-common-protos~=1.52 in /Users/debdeepbanerjee/Desktop/pathway_ds_iitkgp/myenv/lib/python3.10/site-packages (from opentelemetry-exporter-otlp-proto-grpc>=1.22.0->pathway) (1.66.0)\n",
      "Requirement already satisfied: opentelemetry-exporter-otlp-proto-common==1.29.0 in /Users/debdeepbanerjee/Desktop/pathway_ds_iitkgp/myenv/lib/python3.10/site-packages (from opentelemetry-exporter-otlp-proto-grpc>=1.22.0->pathway) (1.29.0)\n",
      "Requirement already satisfied: opentelemetry-proto==1.29.0 in /Users/debdeepbanerjee/Desktop/pathway_ds_iitkgp/myenv/lib/python3.10/site-packages (from opentelemetry-exporter-otlp-proto-grpc>=1.22.0->pathway) (1.29.0)\n",
      "Requirement already satisfied: opentelemetry-semantic-conventions==0.50b0 in /Users/debdeepbanerjee/Desktop/pathway_ds_iitkgp/myenv/lib/python3.10/site-packages (from opentelemetry-sdk>=1.22.0->pathway) (0.50b0)\n",
      "Requirement already satisfied: python-dateutil>=2.8.2 in /Users/debdeepbanerjee/Desktop/pathway_ds_iitkgp/myenv/lib/python3.10/site-packages (from pandas>=2.1->pathway) (2.9.0.post0)\n",
      "Requirement already satisfied: pytz>=2020.1 in /Users/debdeepbanerjee/Desktop/pathway_ds_iitkgp/myenv/lib/python3.10/site-packages (from pandas>=2.1->pathway) (2024.2)\n",
      "Requirement already satisfied: tzdata>=2022.7 in /Users/debdeepbanerjee/Desktop/pathway_ds_iitkgp/myenv/lib/python3.10/site-packages (from pandas>=2.1->pathway) (2024.2)\n",
      "Requirement already satisfied: bleach in /Users/debdeepbanerjee/Desktop/pathway_ds_iitkgp/myenv/lib/python3.10/site-packages (from panel>=1.3.1->pathway) (6.2.0)\n",
      "Requirement already satisfied: linkify-it-py in /Users/debdeepbanerjee/Desktop/pathway_ds_iitkgp/myenv/lib/python3.10/site-packages (from panel>=1.3.1->pathway) (2.0.3)\n",
      "Requirement already satisfied: markdown in /Users/debdeepbanerjee/Desktop/pathway_ds_iitkgp/myenv/lib/python3.10/site-packages (from panel>=1.3.1->pathway) (3.7)\n",
      "Requirement already satisfied: markdown-it-py in /Users/debdeepbanerjee/Desktop/pathway_ds_iitkgp/myenv/lib/python3.10/site-packages (from panel>=1.3.1->pathway) (3.0.0)\n",
      "Requirement already satisfied: mdit-py-plugins in /Users/debdeepbanerjee/Desktop/pathway_ds_iitkgp/myenv/lib/python3.10/site-packages (from panel>=1.3.1->pathway) (0.4.2)\n",
      "Requirement already satisfied: param<3.0,>=2.1.0 in /Users/debdeepbanerjee/Desktop/pathway_ds_iitkgp/myenv/lib/python3.10/site-packages (from panel>=1.3.1->pathway) (2.2.0)\n",
      "Requirement already satisfied: pyviz-comms>=2.0.0 in /Users/debdeepbanerjee/Desktop/pathway_ds_iitkgp/myenv/lib/python3.10/site-packages (from panel>=1.3.1->pathway) (3.0.3)\n",
      "Requirement already satisfied: tqdm in /Users/debdeepbanerjee/Desktop/pathway_ds_iitkgp/myenv/lib/python3.10/site-packages (from panel>=1.3.1->pathway) (4.67.1)\n",
      "Requirement already satisfied: annotated-types>=0.6.0 in /Users/debdeepbanerjee/Desktop/pathway_ds_iitkgp/myenv/lib/python3.10/site-packages (from pydantic~=2.9.0->pathway) (0.7.0)\n",
      "Requirement already satisfied: pydantic-core==2.23.4 in /Users/debdeepbanerjee/Desktop/pathway_ds_iitkgp/myenv/lib/python3.10/site-packages (from pydantic~=2.9.0->pathway) (2.23.4)\n",
      "Requirement already satisfied: charset-normalizer<4,>=2 in /Users/debdeepbanerjee/Desktop/pathway_ds_iitkgp/myenv/lib/python3.10/site-packages (from requests>=2.31.0->pathway) (3.4.1)\n",
      "Requirement already satisfied: idna<4,>=2.5 in /Users/debdeepbanerjee/Desktop/pathway_ds_iitkgp/myenv/lib/python3.10/site-packages (from requests>=2.31.0->pathway) (3.10)\n",
      "Requirement already satisfied: urllib3<3,>=1.21.1 in /Users/debdeepbanerjee/Desktop/pathway_ds_iitkgp/myenv/lib/python3.10/site-packages (from requests>=2.31.0->pathway) (2.3.0)\n",
      "Requirement already satisfied: certifi>=2017.4.17 in /Users/debdeepbanerjee/Desktop/pathway_ds_iitkgp/myenv/lib/python3.10/site-packages (from requests>=2.31.0->pathway) (2024.12.14)\n",
      "Requirement already satisfied: pygments<3.0.0,>=2.13.0 in /Users/debdeepbanerjee/Desktop/pathway_ds_iitkgp/myenv/lib/python3.10/site-packages (from rich>=12.6.0->pathway) (2.19.1)\n",
      "Requirement already satisfied: scipy>=1.6.0 in /Users/debdeepbanerjee/Desktop/pathway_ds_iitkgp/myenv/lib/python3.10/site-packages (from scikit-learn>=1.0->pathway) (1.15.0)\n",
      "Requirement already satisfied: joblib>=1.2.0 in /Users/debdeepbanerjee/Desktop/pathway_ds_iitkgp/myenv/lib/python3.10/site-packages (from scikit-learn>=1.0->pathway) (1.4.2)\n",
      "Requirement already satisfied: threadpoolctl>=3.1.0 in /Users/debdeepbanerjee/Desktop/pathway_ds_iitkgp/myenv/lib/python3.10/site-packages (from scikit-learn>=1.0->pathway) (3.5.0)\n",
      "Requirement already satisfied: google-cloud-core<3.0.0dev,>=2.4.1 in /Users/debdeepbanerjee/Desktop/pathway_ds_iitkgp/myenv/lib/python3.10/site-packages (from google-cloud-bigquery->pathway) (2.4.1)\n",
      "Requirement already satisfied: google-resumable-media<3.0dev,>=2.0.0 in /Users/debdeepbanerjee/Desktop/pathway_ds_iitkgp/myenv/lib/python3.10/site-packages (from google-cloud-bigquery->pathway) (2.7.2)\n",
      "Requirement already satisfied: wrapt<2,>=1.10 in /Users/debdeepbanerjee/Desktop/pathway_ds_iitkgp/myenv/lib/python3.10/site-packages (from deprecated>=1.2.6->opentelemetry-api>=1.22.0->pathway) (1.17.0)\n",
      "Requirement already satisfied: smmap<6,>=3.0.1 in /Users/debdeepbanerjee/Desktop/pathway_ds_iitkgp/myenv/lib/python3.10/site-packages (from gitdb<5,>=4.0.1->gitpython>=3.1.43->pathway) (5.0.2)\n",
      "Requirement already satisfied: cachetools<6.0,>=2.0.0 in /Users/debdeepbanerjee/Desktop/pathway_ds_iitkgp/myenv/lib/python3.10/site-packages (from google-auth!=2.24.0,!=2.25.0,<3.0.0.dev0,>=1.32.0->google-api-python-client>=2.108.0->pathway) (5.5.0)\n",
      "Requirement already satisfied: pyasn1-modules>=0.2.1 in /Users/debdeepbanerjee/Desktop/pathway_ds_iitkgp/myenv/lib/python3.10/site-packages (from google-auth!=2.24.0,!=2.25.0,<3.0.0.dev0,>=1.32.0->google-api-python-client>=2.108.0->pathway) (0.4.1)\n",
      "Requirement already satisfied: rsa<5,>=3.1.4 in /Users/debdeepbanerjee/Desktop/pathway_ds_iitkgp/myenv/lib/python3.10/site-packages (from google-auth!=2.24.0,!=2.25.0,<3.0.0.dev0,>=1.32.0->google-api-python-client>=2.108.0->pathway) (4.9)\n",
      "Requirement already satisfied: google-crc32c<2.0dev,>=1.0 in /Users/debdeepbanerjee/Desktop/pathway_ds_iitkgp/myenv/lib/python3.10/site-packages (from google-resumable-media<3.0dev,>=2.0.0->google-cloud-bigquery->pathway) (1.6.0)\n",
      "Requirement already satisfied: pyparsing!=3.0.0,!=3.0.1,!=3.0.2,!=3.0.3,<4,>=2.4.2 in /Users/debdeepbanerjee/Desktop/pathway_ds_iitkgp/myenv/lib/python3.10/site-packages (from httplib2<1.dev0,>=0.19.0->google-api-python-client>=2.108.0->pathway) (3.2.1)\n",
      "Requirement already satisfied: zipp>=3.20 in /Users/debdeepbanerjee/Desktop/pathway_ds_iitkgp/myenv/lib/python3.10/site-packages (from importlib-metadata<=8.5.0,>=6.0->opentelemetry-api>=1.22.0->pathway) (3.21.0)\n",
      "Requirement already satisfied: mdurl~=0.1 in /Users/debdeepbanerjee/Desktop/pathway_ds_iitkgp/myenv/lib/python3.10/site-packages (from markdown-it-py->panel>=1.3.1->pathway) (0.1.2)\n",
      "Requirement already satisfied: webencodings in /Users/debdeepbanerjee/Desktop/pathway_ds_iitkgp/myenv/lib/python3.10/site-packages (from bleach->panel>=1.3.1->pathway) (0.5.1)\n",
      "Requirement already satisfied: uc-micro-py in /Users/debdeepbanerjee/Desktop/pathway_ds_iitkgp/myenv/lib/python3.10/site-packages (from linkify-it-py->panel>=1.3.1->pathway) (1.0.3)\n",
      "Requirement already satisfied: decorator in /Users/debdeepbanerjee/Desktop/pathway_ds_iitkgp/myenv/lib/python3.10/site-packages (from ipython>=6.1.0->ipywidgets==8.*->jupyter-bokeh>=3.0.7->pathway) (5.1.1)\n",
      "Requirement already satisfied: jedi>=0.16 in /Users/debdeepbanerjee/Desktop/pathway_ds_iitkgp/myenv/lib/python3.10/site-packages (from ipython>=6.1.0->ipywidgets==8.*->jupyter-bokeh>=3.0.7->pathway) (0.19.2)\n",
      "Requirement already satisfied: matplotlib-inline in /Users/debdeepbanerjee/Desktop/pathway_ds_iitkgp/myenv/lib/python3.10/site-packages (from ipython>=6.1.0->ipywidgets==8.*->jupyter-bokeh>=3.0.7->pathway) (0.1.7)\n",
      "Requirement already satisfied: pexpect>4.3 in /Users/debdeepbanerjee/Desktop/pathway_ds_iitkgp/myenv/lib/python3.10/site-packages (from ipython>=6.1.0->ipywidgets==8.*->jupyter-bokeh>=3.0.7->pathway) (4.9.0)\n",
      "Requirement already satisfied: prompt_toolkit<3.1.0,>=3.0.41 in /Users/debdeepbanerjee/Desktop/pathway_ds_iitkgp/myenv/lib/python3.10/site-packages (from ipython>=6.1.0->ipywidgets==8.*->jupyter-bokeh>=3.0.7->pathway) (3.0.48)\n",
      "Requirement already satisfied: stack_data in /Users/debdeepbanerjee/Desktop/pathway_ds_iitkgp/myenv/lib/python3.10/site-packages (from ipython>=6.1.0->ipywidgets==8.*->jupyter-bokeh>=3.0.7->pathway) (0.6.3)\n",
      "Requirement already satisfied: MarkupSafe>=2.0 in /Users/debdeepbanerjee/Desktop/pathway_ds_iitkgp/myenv/lib/python3.10/site-packages (from Jinja2>=2.9->bokeh==3.*->jupyter-bokeh>=3.0.7->pathway) (3.0.2)\n",
      "Requirement already satisfied: pyasn1<0.7.0,>=0.4.6 in /Users/debdeepbanerjee/Desktop/pathway_ds_iitkgp/myenv/lib/python3.10/site-packages (from pyasn1-modules>=0.2.1->google-auth!=2.24.0,!=2.25.0,<3.0.0.dev0,>=1.32.0->google-api-python-client>=2.108.0->pathway) (0.6.1)\n",
      "Requirement already satisfied: parso<0.9.0,>=0.8.4 in /Users/debdeepbanerjee/Desktop/pathway_ds_iitkgp/myenv/lib/python3.10/site-packages (from jedi>=0.16->ipython>=6.1.0->ipywidgets==8.*->jupyter-bokeh>=3.0.7->pathway) (0.8.4)\n",
      "Requirement already satisfied: ptyprocess>=0.5 in /Users/debdeepbanerjee/Desktop/pathway_ds_iitkgp/myenv/lib/python3.10/site-packages (from pexpect>4.3->ipython>=6.1.0->ipywidgets==8.*->jupyter-bokeh>=3.0.7->pathway) (0.7.0)\n",
      "Requirement already satisfied: wcwidth in /Users/debdeepbanerjee/Desktop/pathway_ds_iitkgp/myenv/lib/python3.10/site-packages (from prompt_toolkit<3.1.0,>=3.0.41->ipython>=6.1.0->ipywidgets==8.*->jupyter-bokeh>=3.0.7->pathway) (0.2.13)\n",
      "Requirement already satisfied: executing>=1.2.0 in /Users/debdeepbanerjee/Desktop/pathway_ds_iitkgp/myenv/lib/python3.10/site-packages (from stack_data->ipython>=6.1.0->ipywidgets==8.*->jupyter-bokeh>=3.0.7->pathway) (2.1.0)\n",
      "Requirement already satisfied: asttokens>=2.1.0 in /Users/debdeepbanerjee/Desktop/pathway_ds_iitkgp/myenv/lib/python3.10/site-packages (from stack_data->ipython>=6.1.0->ipywidgets==8.*->jupyter-bokeh>=3.0.7->pathway) (3.0.0)\n",
      "Requirement already satisfied: pure-eval in /Users/debdeepbanerjee/Desktop/pathway_ds_iitkgp/myenv/lib/python3.10/site-packages (from stack_data->ipython>=6.1.0->ipywidgets==8.*->jupyter-bokeh>=3.0.7->pathway) (0.2.3)\n",
      "Note: you may need to restart the kernel to use updated packages.\n"
     ]
    }
   ],
   "source": [
    "# pathway_pipeline.ipynb\n",
    "\n",
    "%pip install pathway\n",
    "\n",
    "import sys\n",
    "\n",
    "from typing import List, Tuple\n",
    "from transformers import pipeline"
   ]
  },
  {
   "cell_type": "code",
   "execution_count": 13,
   "metadata": {},
   "outputs": [
    {
     "name": "stdout",
     "output_type": "stream",
     "text": [
      "Updated sys.path: ['', '/Users/debdeepbanerjee/.pyenv/versions/3.10.0/lib/python3.10', '/var/folders/d0/dlqx3vfs4kq4dx9v77jybst40000gn/T/tmpncgu193w', '/Users/debdeepbanerjee/.pyenv/versions/3.10.0/lib/python3.10/lib-dynload', '/Users/debdeepbanerjee/Desktop/pathway_ds_iitkgp/myenv/lib/python3.10/site-packages', '/Users/debdeepbanerjee/Desktop/Projects/pathway_ds_iitkgp/src', '/Users/debdeepbanerjee/.pyenv/versions/3.10.0/lib/python310.zip', '/Users/debdeepbanerjee/Desktop/Projects/pathway_ds_iitkgp/src']\n",
      "Python Executable: /Users/debdeepbanerjee/Desktop/pathway_ds_iitkgp/myenv/bin/python\n"
     ]
    }
   ],
   "source": [
    "# Remove duplicates from sys.path\n",
    "sys.path = list(set(sys.path))\n",
    "\n",
    "# Add the absolute path to the src directory\n",
    "sys.path.append('/Users/debdeepbanerjee/Desktop/Projects/pathway_ds_iitkgp/src')\n",
    "\n",
    "# Verify that the backend module is in the src directory\n",
    "import os\n",
    "if not os.path.isdir('/Users/debdeepbanerjee/Desktop/Projects/pathway_ds_iitkgp/src/backend'):\n",
    "    raise ModuleNotFoundError(\"The 'backend' module is not found in the specified path.\")\n",
    "\n",
    "# Verify that the path has been added only once\n",
    "print(\"Updated sys.path:\", sys.path)\n",
    "\n",
    "# Print the Python executable being used\n",
    "print(\"Python Executable:\", sys.executable)\n",
    "\n"
   ]
  },
  {
   "cell_type": "code",
   "execution_count": 15,
   "metadata": {},
   "outputs": [
    {
     "name": "stdout",
     "output_type": "stream",
     "text": [
      "Available modules in pw.io: ['CsvParserSettings', 'OnChangeCallback', 'OnFinishCallback', '__all__', '__builtins__', '__cached__', '__doc__', '__file__', '__loader__', '__name__', '__package__', '__path__', '__spec__', '_subscribe', '_utils', 'airbyte', 'bigquery', 'csv', 'debezium', 'deltalake', 'elasticsearch', 'fs', 'gdrive', 'http', 'iceberg', 'jsonlines', 'kafka', 'logstash', 'minio', 'mongodb', 'nats', 'null', 'plaintext', 'postgres', 'pubsub', 'pyfilesystem', 'python', 'redpanda', 's3', 's3_csv', 'slack', 'sqlite', 'subscribe']\n"
     ]
    }
   ],
   "source": [
    "# Import necessary modules\n",
    "import pathway as pw\n",
    "from backend.pathway_integration import PathwayIntegration\n",
    "from pathway.xpacks.llm.vector_store import VectorStoreServer\n",
    "\n",
    "# Ensure that 'pw.io' contains the 'gdrive' method\n",
    "print(\"Available modules in pw.io:\", dir(pw.io))\n"
   ]
  },
  {
   "cell_type": "code",
   "execution_count": 27,
   "metadata": {},
   "outputs": [
    {
     "name": "stderr",
     "output_type": "stream",
     "text": [
      "huggingface/tokenizers: The current process just got forked, after parallelism has already been used. Disabling parallelism to avoid deadlocks...\n",
      "To disable this warning, you can either:\n",
      "\t- Avoid using `tokenizers` before the fork if possible\n",
      "\t- Explicitly set the environment variable TOKENIZERS_PARALLELISM=(true | false)\n",
      "Device set to use mps:0\n"
     ]
    },
    {
     "ename": "TypeError",
     "evalue": "VectorStoreServer.__init__() got an unexpected keyword argument 'docs'",
     "output_type": "error",
     "traceback": [
      "\u001b[0;31m---------------------------------------------------------------------------\u001b[0m",
      "\u001b[0;31mTypeError\u001b[0m                                 Traceback (most recent call last)",
      "Cell \u001b[0;32mIn[27], line 60\u001b[0m\n\u001b[1;32m     57\u001b[0m         \u001b[38;5;28;01mreturn\u001b[39;00m connection_result\n\u001b[1;32m     59\u001b[0m \u001b[38;5;66;03m# Initialize PathwayIntegration\u001b[39;00m\n\u001b[0;32m---> 60\u001b[0m integration \u001b[38;5;241m=\u001b[39m \u001b[43mPathwayIntegration\u001b[49m\u001b[43m(\u001b[49m\u001b[43m)\u001b[49m\n\u001b[1;32m     62\u001b[0m \u001b[38;5;66;03m# Use the connection to link two papers (replace \"Paper A\" and \"Paper B\" with actual paper names)\u001b[39;00m\n\u001b[1;32m     63\u001b[0m result \u001b[38;5;241m=\u001b[39m integration\u001b[38;5;241m.\u001b[39mconnect_papers(\u001b[38;5;124m\"\u001b[39m\u001b[38;5;124mPaper A\u001b[39m\u001b[38;5;124m\"\u001b[39m, \u001b[38;5;124m\"\u001b[39m\u001b[38;5;124mPaper B\u001b[39m\u001b[38;5;124m\"\u001b[39m)\n",
      "Cell \u001b[0;32mIn[27], line 11\u001b[0m, in \u001b[0;36mPathwayIntegration.__init__\u001b[0;34m(self, embedder_model)\u001b[0m\n\u001b[1;32m      7\u001b[0m \u001b[38;5;28mself\u001b[39m\u001b[38;5;241m.\u001b[39membedder \u001b[38;5;241m=\u001b[39m pipeline(\u001b[38;5;124m\"\u001b[39m\u001b[38;5;124mfeature-extraction\u001b[39m\u001b[38;5;124m\"\u001b[39m, model\u001b[38;5;241m=\u001b[39membedder_model, tokenizer\u001b[38;5;241m=\u001b[39membedder_model)\n\u001b[1;32m      9\u001b[0m \u001b[38;5;66;03m# Initialize VectorStoreServer\u001b[39;00m\n\u001b[1;32m     10\u001b[0m \u001b[38;5;66;03m# Provide a data source (e.g., from Google Drive or a folder)\u001b[39;00m\n\u001b[0;32m---> 11\u001b[0m \u001b[38;5;28mself\u001b[39m\u001b[38;5;241m.\u001b[39mvector_store_server \u001b[38;5;241m=\u001b[39m \u001b[43mVectorStoreServer\u001b[49m\u001b[43m(\u001b[49m\n\u001b[1;32m     12\u001b[0m \u001b[43m    \u001b[49m\u001b[43mdocs\u001b[49m\u001b[38;5;241;43m=\u001b[39;49m\u001b[38;5;28;43mself\u001b[39;49m\u001b[38;5;241;43m.\u001b[39;49m\u001b[43mstream_data\u001b[49m\u001b[43m(\u001b[49m\u001b[43m)\u001b[49m\u001b[43m,\u001b[49m\u001b[43m  \u001b[49m\u001b[38;5;66;43;03m# Pass the docs stream here\u001b[39;49;00m\n\u001b[1;32m     13\u001b[0m \u001b[43m    \u001b[49m\u001b[43membedder\u001b[49m\u001b[38;5;241;43m=\u001b[39;49m\u001b[38;5;28;43mself\u001b[39;49m\u001b[38;5;241;43m.\u001b[39;49m\u001b[43m_embedding_udf\u001b[49m\u001b[43m,\u001b[49m\n\u001b[1;32m     14\u001b[0m \u001b[43m    \u001b[49m\u001b[43mparser\u001b[49m\u001b[38;5;241;43m=\u001b[39;49m\u001b[38;5;28;43mself\u001b[39;49m\u001b[38;5;241;43m.\u001b[39;49m\u001b[43m_basic_parser\u001b[49m\u001b[43m,\u001b[49m\n\u001b[1;32m     15\u001b[0m \u001b[43m\u001b[49m\u001b[43m)\u001b[49m\n",
      "\u001b[0;31mTypeError\u001b[0m: VectorStoreServer.__init__() got an unexpected keyword argument 'docs'"
     ]
    }
   ],
   "source": [
    "class PathwayIntegration:\n",
    "    def __init__(self, embedder_model=\"allenai/scibert_scivocab_uncased\"):\n",
    "        # Initialize Google Drive access using the available 'read' method from 'pw.io.gdrive'\n",
    "        self.google_drive_connector = pw.io.gdrive.read  # Using 'read' method directly from 'pw.io'\n",
    "        \n",
    "        # Set up embedding pipeline (using SciBERT or any other model)\n",
    "        self.embedder = pipeline(\"feature-extraction\", model=embedder_model, tokenizer=embedder_model)\n",
    "\n",
    "        # Initialize VectorStoreServer\n",
    "        # Provide a data source (e.g., from Google Drive or a folder)\n",
    "        self.vector_store_server = VectorStoreServer(\n",
    "            docs=self.stream_data(),  # Pass the docs stream here\n",
    "            embedder=self._embedding_udf,\n",
    "            parser=self._basic_parser,\n",
    "        )\n",
    "\n",
    "    def stream_data(self):\n",
    "        \"\"\"Stream papers data using Pathway connectors.\"\"\"\n",
    "        # Replace 'your_object_id' with the actual object ID (file/folder ID) you want to read\n",
    "        object_id = \"1Z8z4craj36ighb8hzUzeM76OOgpUdsKr\"  # Replace with actual object ID from Google Drive\n",
    "        credentials_file = \"/Users/debdeepbanerjee/Downloads/credentials.json\"  # Path to your credentials JSON file\n",
    "        # Fetch the documents from Google Drive\n",
    "        return self.google_drive_connector(object_id, service_user_credentials_file=credentials_file)\n",
    "\n",
    "    def _embedding_udf(self, text: str) -> List[float]:\n",
    "        \"\"\"Embed text using the embedding pipeline.\"\"\"\n",
    "        embeddings = self.embedder(text)\n",
    "        return embeddings[0][0]  # Flatten the output\n",
    "\n",
    "    def _basic_parser(self, content: bytes) -> List[Tuple[str, dict]]:\n",
    "        \"\"\"Basic parser to handle file content.\"\"\"\n",
    "        text = content.decode(\"utf-8\")\n",
    "        return [(text, {})]\n",
    "\n",
    "    def query_statistics(self):\n",
    "        \"\"\"Query document statistics.\"\"\"\n",
    "        query_table = pw.Table.from_dicts([{\"id\": 1}])  # Example query schema\n",
    "        result_table = self.vector_store_server.statistics_query(query_table)\n",
    "        return result_table\n",
    "\n",
    "    def query_similar_embeddings(self, query_embedding: List[float]):\n",
    "        \"\"\"Query nearest neighbors for an embedding.\"\"\"\n",
    "        return self.vector_store_server._graph[\"knn_index\"].query(query_embedding, top_k=3)\n",
    "\n",
    "    def query_inputs(self, metadata_filter=None, filepath_globpattern=None):\n",
    "        \"\"\"Query inputs using metadata filtering.\"\"\"\n",
    "        query_table = pw.Table.from_dicts([\n",
    "            {\"id\": 1, \"metadata_filter\": metadata_filter, \"filepath_globpattern\": filepath_globpattern}\n",
    "        ])\n",
    "        result_table = self.vector_store_server.inputs_query(query_table)\n",
    "        return result_table\n",
    "\n",
    "    def connect_papers(self, paper_a: str, paper_b: str):\n",
    "        \"\"\"Connect two papers based on some criteria.\"\"\"\n",
    "        # Implement the logic to connect papers\n",
    "        connection_result = f\"Connecting {paper_a} with {paper_b}.\"\n",
    "        return connection_result\n",
    "\n",
    "# Initialize PathwayIntegration\n",
    "integration = PathwayIntegration()\n",
    "\n",
    "# Use the connection to link two papers (replace \"Paper A\" and \"Paper B\" with actual paper names)\n",
    "result = integration.connect_papers(\"Paper A\", \"Paper B\")\n",
    "\n",
    "# Print result of the connection\n",
    "print(\"Connection Result:\", result)\n",
    "\n",
    "# Example of querying Google Drive data (ensure the path is valid)\n",
    "try:\n",
    "    drive_data = integration.google_drive_connector(\"your_object_id\")  # Pass the object ID here\n",
    "    print(\"Drive Data:\", drive_data)\n",
    "except Exception as e:\n",
    "    print(f\"Error accessing Google Drive: {e}\")\n",
    "\n",
    "# Check available methods in Pathway Integration and other debugging information\n",
    "print(\"Available methods in PathwayIntegration:\", dir(integration))\n",
    "\n",
    "# Check and display query statistics (just an example)\n",
    "query_stats = integration.query_statistics()\n",
    "print(\"Query Statistics Result:\", query_stats)\n",
    "\n",
    "# Display sample query for similar embeddings (you may replace the query with actual query data)\n",
    "sample_query_embedding = [0.1, 0.2, 0.3, 0.4, 0.5]  # Replace with actual embedding data\n",
    "similar_embeddings = integration.query_similar_embeddings(sample_query_embedding)\n",
    "print(\"Similar Embeddings Query Result:\", similar_embeddings)\n"
   ]
  },
  {
   "cell_type": "code",
   "execution_count": 12,
   "metadata": {},
   "outputs": [
    {
     "name": "stdout",
     "output_type": "stream",
     "text": [
      "['Any', 'Callable', 'ConnectorSubject', 'DEFAULT_MIME_TYPE_MAPPING', 'FILE_FIELDS', 'GDriveFile', 'HttpError', 'MIME_TYPE_FOLDER', 'MediaIoBaseDownload', 'NewType', 'SCOPES', 'STATUS_DOWNLOADED', 'STATUS_SIZE_LIMIT_EXCEEDED', 'STATUS_SYMLINKS_NOT_SUPPORTED', 'ServiceCredentials', 'SessionType', '_GDriveClient', '_GDriveSubject', '_GDriveTree', '__annotations__', '__builtins__', '__cached__', '__doc__', '__file__', '__loader__', '__name__', '__package__', '__path__', '__spec__', 'add_path', 'add_seen_at', 'add_status', 'add_url', 'annotations', 'api', 'build', 'check_arg_types', 'dataclass', 'extend_metadata', 'fnmatch', 'io', 'json', 'logging', 'pw', 'read', 'time', 'warnings']\n"
     ]
    }
   ],
   "source": [
    "# Print available methods and attributes in pw.io.gdrive\n",
    "print(dir(pw.io.gdrive))\n"
   ]
  },
  {
   "cell_type": "code",
   "execution_count": 8,
   "metadata": {},
   "outputs": [
    {
     "name": "stdout",
     "output_type": "stream",
     "text": [
      "Drive Data: <pathway.Table schema={'data': typing.Any}>\n"
     ]
    }
   ],
   "source": [
    "object_id = \"1Z8z4craj36ighb8hzUzeM76OOgpUdsKr\"\n",
    "\n",
    "# Path to your Google Service Account credentials JSON file\n",
    "credentials_path = \"/path/to/your/service_account_credentials.json\"\n",
    "\n",
    "try:\n",
    "    # Pass the credentials file to the read method\n",
    "    drive_data = pw.io.gdrive.read(object_id, service_user_credentials_file=credentials_path)\n",
    "    print(\"Drive Data:\", drive_data)\n",
    "except Exception as e:\n",
    "    print(f\"Error reading from Google Drive: {e}\")\n"
   ]
  },
  {
   "cell_type": "code",
   "execution_count": 6,
   "metadata": {},
   "outputs": [
    {
     "name": "stdout",
     "output_type": "stream",
     "text": [
      "['__call__', '__class__', '__delattr__', '__dict__', '__dir__', '__doc__', '__eq__', '__format__', '__ge__', '__getattribute__', '__gt__', '__hash__', '__init__', '__init_subclass__', '__le__', '__lt__', '__module__', '__name__', '__ne__', '__new__', '__or__', '__qualname__', '__reduce__', '__reduce_ex__', '__repr__', '__ror__', '__setattr__', '__sizeof__', '__str__', '__subclasshook__', '__supertype__', '__weakref__']\n"
     ]
    }
   ],
   "source": [
    "# Inspect the GDriveFile class\n",
    "print(dir(pw.io.gdrive.GDriveFile))  # Check methods and attributes of GDriveFile class\n"
   ]
  }
 ],
 "metadata": {
  "kernelspec": {
   "display_name": "myenv",
   "language": "python",
   "name": "python3"
  },
  "language_info": {
   "codemirror_mode": {
    "name": "ipython",
    "version": 3
   },
   "file_extension": ".py",
   "mimetype": "text/x-python",
   "name": "python",
   "nbconvert_exporter": "python",
   "pygments_lexer": "ipython3",
   "version": "3.10.0"
  }
 },
 "nbformat": 4,
 "nbformat_minor": 2
}
