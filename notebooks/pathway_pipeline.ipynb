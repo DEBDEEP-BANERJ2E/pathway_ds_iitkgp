{
 "cells": [
  {
   "cell_type": "code",
   "execution_count": 10,
   "metadata": {},
   "outputs": [
    {
     "name": "stdout",
     "output_type": "stream",
     "text": [
      "Updated sys.path: ['', '/Users/debdeepbanerjee/.pyenv/versions/3.10.0/lib/python3.10/lib-dynload', '/Users/debdeepbanerjee/Desktop/Projects/kdsh/myenv/lib/python3.10/site-packages', '/Users/debdeepbanerjee/.pyenv/versions/3.10.0/lib/python310.zip', '/Users/debdeepbanerjee/.pyenv/versions/3.10.0/lib/python3.10', '/Users/debdeepbanerjee/Desktop/Projects/kdsh/src', '/var/folders/d0/dlqx3vfs4kq4dx9v77jybst40000gn/T/tmppe8_ywia', '/Users/debdeepbanerjee/Desktop/Projects/kdsh/src']\n",
      "Python Executable: /Users/debdeepbanerjee/Desktop/Projects/kdsh/myenv/bin/python\n",
      "Available modules in pw.io: ['CsvParserSettings', 'OnChangeCallback', 'OnFinishCallback', '__all__', '__builtins__', '__cached__', '__doc__', '__file__', '__loader__', '__name__', '__package__', '__path__', '__spec__', '_subscribe', '_utils', 'airbyte', 'bigquery', 'csv', 'debezium', 'deltalake', 'elasticsearch', 'fs', 'gdrive', 'http', 'iceberg', 'jsonlines', 'kafka', 'logstash', 'minio', 'mongodb', 'nats', 'null', 'plaintext', 'postgres', 'pubsub', 'pyfilesystem', 'python', 'redpanda', 's3', 's3_csv', 'slack', 'sqlite', 'subscribe']\n"
     ]
    },
    {
     "ename": "NameError",
     "evalue": "name 'List' is not defined",
     "output_type": "error",
     "traceback": [
      "\u001b[0;31m---------------------------------------------------------------------------\u001b[0m",
      "\u001b[0;31mNameError\u001b[0m                                 Traceback (most recent call last)",
      "Cell \u001b[0;32mIn[10], line 25\u001b[0m\n\u001b[1;32m     22\u001b[0m \u001b[38;5;28mprint\u001b[39m(\u001b[38;5;124m\"\u001b[39m\u001b[38;5;124mAvailable modules in pw.io:\u001b[39m\u001b[38;5;124m\"\u001b[39m, \u001b[38;5;28mdir\u001b[39m(pw\u001b[38;5;241m.\u001b[39mio))\n\u001b[1;32m     24\u001b[0m \u001b[38;5;66;03m# Adjust the PathwayIntegration to correctly initialize gdrive\u001b[39;00m\n\u001b[0;32m---> 25\u001b[0m \u001b[38;5;28;01mclass\u001b[39;00m\u001b[38;5;250m \u001b[39m\u001b[38;5;21;01mPathwayIntegration\u001b[39;00m:\n\u001b[1;32m     26\u001b[0m     \u001b[38;5;28;01mdef\u001b[39;00m\u001b[38;5;250m \u001b[39m\u001b[38;5;21m__init__\u001b[39m(\u001b[38;5;28mself\u001b[39m, embedder_model\u001b[38;5;241m=\u001b[39m\u001b[38;5;124m\"\u001b[39m\u001b[38;5;124mallenai/scibert_scivocab_uncased\u001b[39m\u001b[38;5;124m\"\u001b[39m):\n\u001b[1;32m     27\u001b[0m         \u001b[38;5;66;03m# Initialize connectors properly (using the correct class or method for gdrive)\u001b[39;00m\n\u001b[1;32m     28\u001b[0m         \u001b[38;5;28mself\u001b[39m\u001b[38;5;241m.\u001b[39mgoogle_drive_connector \u001b[38;5;241m=\u001b[39m pw\u001b[38;5;241m.\u001b[39mio\u001b[38;5;241m.\u001b[39mgdrive\u001b[38;5;241m.\u001b[39mGDriveConnector(\u001b[38;5;124m\"\u001b[39m\u001b[38;5;124mhttps://drive.google.com/drive/folders/1Z8z4craj36ighb8hzUzeM76OOgpUdsKr\u001b[39m\u001b[38;5;124m\"\u001b[39m)\n",
      "Cell \u001b[0;32mIn[10], line 44\u001b[0m, in \u001b[0;36mPathwayIntegration\u001b[0;34m()\u001b[0m\n\u001b[1;32m     41\u001b[0m \u001b[38;5;250m    \u001b[39m\u001b[38;5;124;03m\"\"\"Stream papers data using Pathway connectors.\"\"\"\u001b[39;00m\n\u001b[1;32m     42\u001b[0m     \u001b[38;5;28;01mreturn\u001b[39;00m \u001b[38;5;28mself\u001b[39m\u001b[38;5;241m.\u001b[39mgoogle_drive_connector\u001b[38;5;241m.\u001b[39mread()\n\u001b[0;32m---> 44\u001b[0m \u001b[38;5;28;01mdef\u001b[39;00m\u001b[38;5;250m \u001b[39m\u001b[38;5;21m_embedding_udf\u001b[39m(\u001b[38;5;28mself\u001b[39m, text: \u001b[38;5;28mstr\u001b[39m) \u001b[38;5;241m-\u001b[39m\u001b[38;5;241m>\u001b[39m \u001b[43mList\u001b[49m[\u001b[38;5;28mfloat\u001b[39m]:\n\u001b[1;32m     45\u001b[0m \u001b[38;5;250m    \u001b[39m\u001b[38;5;124;03m\"\"\"Embed text using the embedding pipeline.\"\"\"\u001b[39;00m\n\u001b[1;32m     46\u001b[0m     embeddings \u001b[38;5;241m=\u001b[39m \u001b[38;5;28mself\u001b[39m\u001b[38;5;241m.\u001b[39membedder(text)\n",
      "\u001b[0;31mNameError\u001b[0m: name 'List' is not defined"
     ]
    }
   ],
   "source": [
    "# pathway_pipeline.ipynb\n",
    "\n",
    "import sys\n",
    "\n",
    "# Remove duplicates from sys.path\n",
    "sys.path = list(set(sys.path))\n",
    "\n",
    "# Add the absolute path to the src directory\n",
    "sys.path.append('/Users/debdeepbanerjee/Desktop/Projects/kdsh/src')\n",
    "\n",
    "# Verify that the path has been added only once\n",
    "print(\"Updated sys.path:\", sys.path)\n",
    "\n",
    "# Print the Python executable being used\n",
    "print(\"Python Executable:\", sys.executable)\n",
    "\n",
    "# Import necessary modules\n",
    "import pathway as pw\n",
    "from backend.pathway_integration import PathwayIntegration\n",
    "\n",
    "# Ensure that 'pw.io' contains the 'gdrive' method\n",
    "print(\"Available modules in pw.io:\", dir(pw.io))\n",
    "\n",
    "# Adjust the PathwayIntegration to correctly initialize gdrive\n",
    "class PathwayIntegration:\n",
    "    def __init__(self, embedder_model=\"allenai/scibert_scivocab_uncased\"):\n",
    "        # Initialize connectors properly (using the correct class or method for gdrive)\n",
    "        self.google_drive_connector = pw.io.gdrive.GDriveConnector(\"https://drive.google.com/drive/folders/1Z8z4craj36ighb8hzUzeM76OOgpUdsKr\")\n",
    "        \n",
    "        # Set up embedding pipeline (using SciBERT or any other model)\n",
    "        self.embedder = pipeline(\"feature-extraction\", model=embedder_model, tokenizer=embedder_model)\n",
    "\n",
    "        # Initialize VectorStoreServer\n",
    "        self.vector_store_server = VectorStoreServer(\n",
    "            docs=self.stream_data(),\n",
    "            embedder=self._embedding_udf,\n",
    "            parser=self._basic_parser,\n",
    "        )\n",
    "\n",
    "    def stream_data(self):\n",
    "        \"\"\"Stream papers data using Pathway connectors.\"\"\"\n",
    "        return self.google_drive_connector.read()\n",
    "\n",
    "    def _embedding_udf(self, text: str) -> List[float]:\n",
    "        \"\"\"Embed text using the embedding pipeline.\"\"\"\n",
    "        embeddings = self.embedder(text)\n",
    "        return embeddings[0][0]  # Flatten the output\n",
    "\n",
    "    def _basic_parser(self, content: bytes) -> List[Tuple[str, dict]]:\n",
    "        \"\"\"Basic parser to handle file content.\"\"\"\n",
    "        text = content.decode(\"utf-8\")\n",
    "        return [(text, {})]\n",
    "\n",
    "    def query_statistics(self):\n",
    "        \"\"\"Query document statistics.\"\"\"\n",
    "        query_table = pw.Table.from_dicts([{\"id\": 1}])  # Example query schema\n",
    "        result_table = self.vector_store_server.statistics_query(query_table)\n",
    "        return result_table\n",
    "\n",
    "    def query_similar_embeddings(self, query_embedding: List[float]):\n",
    "        \"\"\"Query nearest neighbors for an embedding.\"\"\"\n",
    "        return self.vector_store_server._graph[\"knn_index\"].query(query_embedding, top_k=3)\n",
    "\n",
    "    def query_inputs(self, metadata_filter=None, filepath_globpattern=None):\n",
    "        \"\"\"Query inputs using metadata filtering.\"\"\"\n",
    "        query_table = pw.Table.from_dicts([\n",
    "            {\"id\": 1, \"metadata_filter\": metadata_filter, \"filepath_globpattern\": filepath_globpattern}\n",
    "        ])\n",
    "        result_table = self.vector_store_server.inputs_query(query_table)\n",
    "        return result_table\n",
    "\n",
    "# Initialize PathwayIntegration\n",
    "integration = PathwayIntegration()\n",
    "\n",
    "# Use the connection to link two papers (replace \"Paper A\" and \"Paper B\" with actual paper names)\n",
    "result = integration.connect_papers(\"Paper A\", \"Paper B\")\n",
    "\n",
    "# Print result of the connection\n",
    "print(\"Connection Result:\", result)\n",
    "\n",
    "# Example of querying Google Drive data (ensure the path is valid)\n",
    "try:\n",
    "    drive_data = integration.google_drive_connector.read()\n",
    "    print(\"Drive Data:\", drive_data)\n",
    "except Exception as e:\n",
    "    print(f\"Error accessing Google Drive: {e}\")\n",
    "\n",
    "# Check available methods in Pathway Integration and other debugging information\n",
    "print(\"Available methods in PathwayIntegration:\", dir(integration))\n",
    "\n",
    "# Check and display query statistics (just an example)\n",
    "query_stats = integration.query_statistics()\n",
    "print(\"Query Statistics Result:\", query_stats)\n",
    "\n",
    "# Display sample query for similar embeddings (you may replace the query with actual query data)\n",
    "sample_query_embedding = [0.1, 0.2, 0.3, 0.4, 0.5]  # Replace with actual embedding data\n",
    "similar_embeddings = integration.query_similar_embeddings(sample_query_embedding)\n",
    "print(\"Similar Embeddings Query Result:\", similar_embeddings)\n"
   ]
  },
  {
   "cell_type": "code",
   "execution_count": 11,
   "metadata": {},
   "outputs": [
    {
     "name": "stdout",
     "output_type": "stream",
     "text": [
      "['Any', 'Callable', 'ConnectorSubject', 'DEFAULT_MIME_TYPE_MAPPING', 'FILE_FIELDS', 'GDriveFile', 'HttpError', 'MIME_TYPE_FOLDER', 'MediaIoBaseDownload', 'NewType', 'SCOPES', 'STATUS_DOWNLOADED', 'STATUS_SIZE_LIMIT_EXCEEDED', 'STATUS_SYMLINKS_NOT_SUPPORTED', 'ServiceCredentials', 'SessionType', '_GDriveClient', '_GDriveSubject', '_GDriveTree', '__annotations__', '__builtins__', '__cached__', '__doc__', '__file__', '__loader__', '__name__', '__package__', '__path__', '__spec__', 'add_path', 'add_seen_at', 'add_status', 'add_url', 'annotations', 'api', 'build', 'check_arg_types', 'dataclass', 'extend_metadata', 'fnmatch', 'io', 'json', 'logging', 'pw', 'read', 'time', 'warnings']\n"
     ]
    }
   ],
   "source": [
    "# Print available methods and attributes in pw.io.gdrive\n",
    "print(dir(pw.io.gdrive))\n"
   ]
  },
  {
   "cell_type": "code",
   "execution_count": null,
   "metadata": {},
   "outputs": [
    {
     "name": "stdout",
     "output_type": "stream",
     "text": [
      "Error reading from Google Drive: read() missing 1 required keyword-only argument: 'service_user_credentials_file'\n"
     ]
    }
   ],
   "source": [
    "import pw.io.gdrive\n",
    "\n",
    "object_id = \"1Z8z4craj36ighb8hzUzeM76OOgpUdsKr\"\n",
    "\n",
    "# Path to your Google Service Account credentials JSON file\n",
    "credentials_path = \"/path/to/your/service_account_credentials.json\"\n",
    "\n",
    "try:\n",
    "    # Pass the credentials file to the read method\n",
    "    drive_data = pw.io.gdrive.read(object_id, service_user_credentials_file=credentials_path)\n",
    "    print(\"Drive Data:\", drive_data)\n",
    "except Exception as e:\n",
    "    print(f\"Error reading from Google Drive: {e}\")\n"
   ]
  },
  {
   "cell_type": "code",
   "execution_count": 13,
   "metadata": {},
   "outputs": [
    {
     "name": "stdout",
     "output_type": "stream",
     "text": [
      "['__call__', '__class__', '__delattr__', '__dict__', '__dir__', '__doc__', '__eq__', '__format__', '__ge__', '__getattribute__', '__gt__', '__hash__', '__init__', '__init_subclass__', '__le__', '__lt__', '__module__', '__name__', '__ne__', '__new__', '__or__', '__qualname__', '__reduce__', '__reduce_ex__', '__repr__', '__ror__', '__setattr__', '__sizeof__', '__str__', '__subclasshook__', '__supertype__', '__weakref__']\n"
     ]
    }
   ],
   "source": [
    "# Inspect the GDriveFile class\n",
    "print(dir(pw.io.gdrive.GDriveFile))  # Check methods and attributes of GDriveFile class\n"
   ]
  }
 ],
 "metadata": {
  "kernelspec": {
   "display_name": "myenv",
   "language": "python",
   "name": "python3"
  },
  "language_info": {
   "codemirror_mode": {
    "name": "ipython",
    "version": 3
   },
   "file_extension": ".py",
   "mimetype": "text/x-python",
   "name": "python",
   "nbconvert_exporter": "python",
   "pygments_lexer": "ipython3",
   "version": "3.10.0"
  }
 },
 "nbformat": 4,
 "nbformat_minor": 2
}
